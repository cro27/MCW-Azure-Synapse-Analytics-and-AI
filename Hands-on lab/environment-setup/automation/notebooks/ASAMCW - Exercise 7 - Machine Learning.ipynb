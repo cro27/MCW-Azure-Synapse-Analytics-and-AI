{
  "cells": [
    {
      "cell_type": "markdown",
      "metadata": {},
      "source": [
        "# Train a classifier to determine product seasonality\n"
      ]
    },
    {
      "cell_type": "markdown",
      "metadata": {},
      "source": [
        "Import all necessary libraries.\n"
      ]
    },
    {
      "cell_type": "code",
      "execution_count": 15,
      "metadata": {},
      "outputs": [
        {
          "data": {
            "application/vnd.livy.statement-meta+json": {
              "execution_finish_time": "2021-05-27T01:08:28.8120088Z",
              "execution_start_time": "2021-05-27T01:08:05.9961433Z",
              "livy_statement_state": "available",
              "queued_time": "2021-05-27T01:04:59.7697791Z",
              "session_id": 27,
              "spark_pool": "SparkPool01",
              "state": "finished",
              "statement_id": 1
            },
            "text/plain": "StatementMeta(SparkPool01, 27, 1, Finished, Available)"
          },
          "output_type": "unknown"
        },
        {
          "data": {
            "application/x.notebook.stdout": "/home/trusted-service-user/cluster-env/env/lib/python3.6/site-packages/sklearn/externals/joblib/__init__.py:15: FutureWarning: sklearn.externals.joblib is deprecated in 0.21 and will be removed in 0.23. Please import this functionality directly from joblib, which can be installed with: pip install joblib. If this warning is raised when loading pickled models, you may need to re-serialize those models with scikit-learn 0.21+.\n  warnings.warn(msg, category=FutureWarning)"
          },
          "output_type": "unknown"
        }
      ],
      "source": [
        "from sklearn.preprocessing import StandardScaler, MinMaxScaler, Normalizer\r\n",
        "from sklearn.decomposition import PCA\r\n",
        "from sklearn.model_selection import train_test_split\r\n",
        "from sklearn.metrics import accuracy_score\r\n",
        "from sklearn.externals import joblib\r\n",
        "\r\n",
        "from xgboost import XGBClassifier\r\n",
        "\r\n",
        "from onnxmltools.convert import convert_xgboost\r\n",
        "from onnxmltools.convert.common.data_types import FloatTensorType\r\n",
        "\r\n",
        "import numpy as np\r\n",
        "import pandas as pd\r\n",
        "import matplotlib.pyplot as plt\r\n",
        "import joblib\r\n",
        "\r\n",
        "from azureml.core.experiment import Experiment\r\n",
        "from azureml.core.workspace import Workspace\r\n",
        "from azureml.train.automl.run import AutoMLRun\r\n",
        "from azureml.train.automl import AutoMLConfig\r\n",
        "from azureml.automl.runtime.onnx_convert import OnnxConverter\r\n",
        "from azureml.core.model import Model\r\n",
        "from azureml.core import Environment\r\n",
        "from azureml.core.model import InferenceConfig\r\n",
        "from azureml.core.webservice import AciWebservice\r\n",
        "from azureml.core.webservice import Webservice"
      ]
    },
    {
      "cell_type": "markdown",
      "metadata": {},
      "source": [
        "## Exploratory data analysis (basic stats)\n",
        "\n",
        "Create Spark temporary views for sales and products."
      ]
    },
    {
      "cell_type": "code",
      "execution_count": 26,
      "metadata": {
        "collapsed": false,
        "diagram": {
          "activateDiagramType": 2,
          "aggData": "{\"ProductId\":{\"1\":913878,\"2\":273395,\"3\":267388}}",
          "chartConfig": {
            "aggByBackend": false,
            "aggregation": "SUM",
            "category": "bar",
            "keys": [
              "Seasonality"
            ],
            "values": [
              "ProductId"
            ],
            "xLabel": "Seasonality",
            "yLabel": "ProductId"
          },
          "isSql": false,
          "isSummary": false,
          "previewData": {
            "filter": null
          }
        },
        "microsoft": {
          "language": "scala"
        }
      },
      "outputs": [
        {
          "data": {
            "application/vnd.livy.statement-meta+json": {
              "execution_finish_time": "2021-05-27T01:25:58.45248Z",
              "execution_start_time": "2021-05-27T01:25:43.9327212Z",
              "livy_statement_state": "available",
              "queued_time": "2021-05-27T01:25:43.8169431Z",
              "session_id": 27,
              "spark_pool": "SparkPool01",
              "state": "finished",
              "statement_id": 11
            },
            "text/plain": "StatementMeta(SparkPool01, 27, 11, Finished, Available)"
          },
          "output_type": "unknown"
        },
        {
          "data": {
            "text/plain": "df: org.apache.spark.sql.DataFrame = [TransactionId: string, CustomerId: int ... 9 more fields]\ndf2: org.apache.spark.sql.DataFrame = [ProductId: smallint, Seasonality: int ... 2 more fields]\n"
          },
          "output_type": "unknown"
        },
        {
          "data": {
            "application/vnd.synapse.widget-view+json": {
              "widget_id": "af337eb3-fc4d-483b-a6b5-979cabd4cf88",
              "widget_type": "Synapse.DataFrame"
            },
            "text/plain": "SynapseWidget(Synapse.DataFrame, af337eb3-fc4d-483b-a6b5-979cabd4cf88)"
          },
          "output_type": "unknown"
        },
        {
          "data": {
            "text/plain": "\n"
          },
          "output_type": "unknown"
        },
        {
          "output_type": "unknown"
        }
      ],
      "source": [
        "%%spark\n",
        "val df = spark.read.sqlanalytics(\"SQLPool01.wwi_mcw.SaleSmall\") \n",
        "df.createOrReplaceTempView(\"sale\")\n",
        "\n",
        "\n",
        "val df2 = spark.read.sqlanalytics(\"SQLPool01.wwi_mcw.Product\") \n",
        "df2.createOrReplaceTempView(\"product\")\n",
        "display(df2)"
      ]
    },
    {
      "cell_type": "markdown",
      "metadata": {},
      "source": [
        "Load daily product sales from the SQL pool.\n"
      ]
    },
    {
      "cell_type": "code",
      "execution_count": 35,
      "metadata": {},
      "outputs": [
        {
          "data": {
            "application/vnd.livy.statement-meta+json": {
              "execution_finish_time": "2021-05-27T01:35:50.9244573Z",
              "execution_start_time": "2021-05-27T01:35:48.8586621Z",
              "livy_statement_state": "available",
              "queued_time": "2021-05-27T01:35:48.7425542Z",
              "session_id": 27,
              "spark_pool": "SparkPool01",
              "state": "finished",
              "statement_id": 20
            },
            "text/plain": "StatementMeta(SparkPool01, 27, 20, Finished, Available)"
          },
          "output_type": "unknown"
        },
        {
          "data": {
            "application/x.notebook.stdout": "+---------+-----------+-----------------+---------------------+\n|ProductId|Seasonality|TransactionDateId|TransactionItemsCount|\n+---------+-----------+-----------------+---------------------+\n|     2138|          3|         20190104|                  395|\n|      160|          3|         20190103|                 1958|\n|     2265|          3|         20190103|                  358|\n|     3272|          1|         20190103|                   50|\n|     4025|          3|         20190108|                  400|\n|      134|          1|         20190116|                 1785|\n|     4572|          1|         20190118|                   54|\n|      203|          3|         20190111|                 1949|\n|      144|          1|         20190121|                 1641|\n|      217|          3|         20190121|                 1967|\n|     2882|          3|         20190124|                  384|\n|      324|          3|         20190109|                  388|\n|      577|          1|         20190227|                   71|\n|     4830|          1|         20190327|                  256|\n|     1257|          1|         20190327|                  238|\n|       75|          1|         20190327|                 1636|\n|     1446|          1|         20190327|                  280|\n|     1913|          1|         20190327|                  240|\n|      199|          1|         20190110|                 1635|\n|      144|          1|         20190128|                 1727|\n+---------+-----------+-----------------+---------------------+\nonly showing top 20 rows"
          },
          "output_type": "unknown"
        }
      ],
      "source": [
        "sqlQuery = \"\"\"\n",
        "SELECT\n",
        "    P.ProductId\n",
        "    ,P.Seasonality\n",
        "    ,S.TransactionDateId\n",
        "    ,COUNT(*) as TransactionItemsCount\n",
        "FROM\n",
        "    sale S\n",
        "    JOIN product P ON\n",
        "        S.ProductId = P.ProductId\n",
        "where TransactionDateId between 20190101 and 20191231\n",
        "GROUP BY\n",
        "    P.ProductId\n",
        "    ,P.Seasonality\n",
        "    ,S.TransactionDateId\n",
        "\"\"\"\n",
        "\n",
        "prod_df = spark.sql(sqlQuery)\n",
        "prod_df.cache()\n",
        "prod_df.show()"
      ]
    },
    {
      "cell_type": "markdown",
      "metadata": {},
      "source": [
        "Check the number of records in the data frame (should be around 1.3 million rows)."
      ]
    },
    {
      "cell_type": "code",
      "execution_count": 36,
      "metadata": {},
      "outputs": [
        {
          "data": {
            "application/vnd.livy.statement-meta+json": {
              "execution_finish_time": "2021-05-27T01:37:36.4372811Z",
              "execution_start_time": "2021-05-27T01:37:34.3835176Z",
              "livy_statement_state": "available",
              "queued_time": "2021-05-27T01:37:34.2655752Z",
              "session_id": 27,
              "spark_pool": "SparkPool01",
              "state": "finished",
              "statement_id": 21
            },
            "text/plain": "StatementMeta(SparkPool01, 27, 21, Finished, Available)"
          },
          "output_type": "unknown"
        },
        {
          "data": {
            "application/x.notebook.stdout": "1305398"
          },
          "output_type": "unknown"
        }
      ],
      "source": [
        "prod_df.count()"
      ]
    },
    {
      "cell_type": "markdown",
      "metadata": {},
      "source": [
        "Display some statistics about the data frame.\n"
      ]
    },
    {
      "cell_type": "code",
      "execution_count": 37,
      "metadata": {
        "collapsed": false,
        "diagram": {
          "activateDiagramType": 1,
          "aggData": "{\"summary\":{\"count\":1,\"max\":1,\"mean\":1,\"min\":1,\"stddev\":1}}",
          "chartConfig": {
            "aggByBackend": false,
            "aggregation": "COUNT",
            "category": "bar",
            "keys": [
              "summary"
            ],
            "values": [
              "summary"
            ],
            "xLabel": "summary",
            "yLabel": "summary"
          },
          "isSql": false,
          "isSummary": false,
          "previewData": {
            "filter": null
          }
        },
        "outputCollapsed": true
      },
      "outputs": [
        {
          "data": {
            "application/vnd.livy.statement-meta+json": {
              "execution_finish_time": "2021-05-27T01:37:55.5265988Z",
              "execution_start_time": "2021-05-27T01:37:51.390009Z",
              "livy_statement_state": "available",
              "queued_time": "2021-05-27T01:37:51.2860619Z",
              "session_id": 27,
              "spark_pool": "SparkPool01",
              "state": "finished",
              "statement_id": 22
            },
            "text/plain": "StatementMeta(SparkPool01, 27, 22, Finished, Available)"
          },
          "output_type": "unknown"
        },
        {
          "data": {
            "application/vnd.synapse.widget-view+json": {
              "widget_id": "d0c4f9d1-9ad2-418b-800f-aa5297d6dfe3",
              "widget_type": "Synapse.DataFrame"
            },
            "text/plain": "SynapseWidget(Synapse.DataFrame, d0c4f9d1-9ad2-418b-800f-aa5297d6dfe3)"
          },
          "output_type": "unknown"
        },
        {
          "output_type": "unknown"
        }
      ],
      "source": [
        "display(prod_df.describe())"
      ]
    },
    {
      "cell_type": "markdown",
      "metadata": {},
      "source": [
        "Pivot the data frame to make daily sale items counts columns. \n"
      ]
    },
    {
      "cell_type": "code",
      "execution_count": 38,
      "metadata": {},
      "outputs": [
        {
          "data": {
            "application/vnd.livy.statement-meta+json": {
              "execution_finish_time": "2021-05-27T01:38:36.4364598Z",
              "execution_start_time": "2021-05-27T01:38:01.2405863Z",
              "livy_statement_state": "available",
              "queued_time": "2021-05-27T01:38:01.086596Z",
              "session_id": 27,
              "spark_pool": "SparkPool01",
              "state": "finished",
              "statement_id": 23
            },
            "text/plain": "StatementMeta(SparkPool01, 27, 23, Finished, Available)"
          },
          "output_type": "unknown"
        },
        {
          "data": {
            "application/x.notebook.stdout": ""
          },
          "output_type": "unknown"
        }
      ],
      "source": [
        "prod_prep_df = prod_df.groupBy(['ProductId', 'Seasonality']).pivot('TransactionDateId').sum('TransactionItemsCount').toPandas()"
      ]
    },
    {
      "cell_type": "markdown",
      "metadata": {},
      "source": [
        "Clean up the nulls and take a look at the result.\n"
      ]
    },
    {
      "cell_type": "code",
      "execution_count": 39,
      "metadata": {},
      "outputs": [
        {
          "data": {
            "application/vnd.livy.statement-meta+json": {
              "execution_finish_time": "2021-05-27T01:39:04.8085562Z",
              "execution_start_time": "2021-05-27T01:39:02.7397676Z",
              "livy_statement_state": "available",
              "queued_time": "2021-05-27T01:39:02.6124735Z",
              "session_id": 27,
              "spark_pool": "SparkPool01",
              "state": "finished",
              "statement_id": 24
            },
            "text/plain": "StatementMeta(SparkPool01, 27, 24, Finished, Available)"
          },
          "output_type": "unknown"
        },
        {
          "data": {
            "application/x.notebook.stdout": "   ProductId  Seasonality  20190101  ...  20191229  20191230  20191231\n0       1504            1     48.00  ...     22.00     95.00    112.00\n1       3520            1     56.00  ...     28.00    106.00    106.00\n2       2781            1     70.00  ...     27.00    108.00    113.00\n3       3443            1     64.00  ...     32.00    112.00    107.00\n4       3535            1     83.00  ...     15.00    125.00    105.00\n5       4400            1     64.00  ...     19.00    119.00    106.00\n6       4260            1     54.00  ...     25.00    108.00    110.00\n7       3231            1     52.00  ...     19.00    115.00    108.00\n8       2141            1     52.00  ...     22.00    118.00    112.00\n9       4786            1     59.00  ...     38.00    100.00     95.00\n\n[10 rows x 366 columns]"
          },
          "output_type": "unknown"
        }
      ],
      "source": [
        "prod_prep_df = prod_prep_df.fillna(0)\n",
        "prod_prep_df.head(10)"
      ]
    },
    {
      "cell_type": "markdown",
      "metadata": {},
      "source": [
        "Isolate features and prediction classes.\n",
        "\n",
        "Standardize features by removing the mean and scaling to unit variance.\n"
      ]
    },
    {
      "cell_type": "code",
      "execution_count": 40,
      "metadata": {},
      "outputs": [
        {
          "data": {
            "application/vnd.livy.statement-meta+json": {
              "execution_finish_time": "2021-05-27T01:40:04.192007Z",
              "execution_start_time": "2021-05-27T01:40:02.113281Z",
              "livy_statement_state": "available",
              "queued_time": "2021-05-27T01:40:02.0019878Z",
              "session_id": 27,
              "spark_pool": "SparkPool01",
              "state": "finished",
              "statement_id": 25
            },
            "text/plain": "StatementMeta(SparkPool01, 27, 25, Finished, Available)"
          },
          "output_type": "unknown"
        },
        {
          "data": {
            "application/x.notebook.stdout": ""
          },
          "output_type": "unknown"
        }
      ],
      "source": [
        "X = prod_prep_df.iloc[:, 2:].values\n",
        "y = prod_prep_df['Seasonality'].values\n",
        "\n",
        "X_scale = StandardScaler().fit_transform(X)"
      ]
    },
    {
      "cell_type": "markdown",
      "metadata": {},
      "source": [
        "## Use PCA for dimensionality reduction\n",
        "\n",
        "Perform dimensionality reduction using Principal Components Analysis and two target components.\n"
      ]
    },
    {
      "cell_type": "code",
      "execution_count": 42,
      "metadata": {},
      "outputs": [
        {
          "data": {
            "application/vnd.livy.statement-meta+json": {
              "execution_finish_time": "2021-05-27T01:40:53.9684266Z",
              "execution_start_time": "2021-05-27T01:40:51.8928227Z",
              "livy_statement_state": "available",
              "queued_time": "2021-05-27T01:40:51.777342Z",
              "session_id": 27,
              "spark_pool": "SparkPool01",
              "state": "finished",
              "statement_id": 27
            },
            "text/plain": "StatementMeta(SparkPool01, 27, 27, Finished, Available)"
          },
          "output_type": "unknown"
        },
        {
          "data": {
            "application/x.notebook.stdout": ""
          },
          "output_type": "unknown"
        }
      ],
      "source": [
        "pca = PCA(n_components=2)\n",
        "principal_components = pca.fit_transform(X_scale)\n",
        "principal_components = MinMaxScaler().fit_transform(principal_components)\n",
        "\n",
        "pca_df = pd.DataFrame(data = principal_components, columns = ['pc1', 'pc2'])\n",
        "pca_df = pd.concat([pca_df, prod_prep_df[['Seasonality']]], axis = 1)"
      ]
    },
    {
      "cell_type": "markdown",
      "metadata": {},
      "source": [
        "Display the products data frame in two dimensions (mapped to the two principal components).\n",
        "\n",
        "Note the clear separation of clusters.\n"
      ]
    },
    {
      "cell_type": "code",
      "execution_count": 43,
      "metadata": {},
      "outputs": [
        {
          "data": {
            "application/vnd.livy.statement-meta+json": {
              "execution_finish_time": "2021-05-27T01:41:45.3831586Z",
              "execution_start_time": "2021-05-27T01:41:43.305463Z",
              "livy_statement_state": "available",
              "queued_time": "2021-05-27T01:41:43.1848565Z",
              "session_id": 27,
              "spark_pool": "SparkPool01",
              "state": "finished",
              "statement_id": 28
            },
            "text/plain": "StatementMeta(SparkPool01, 27, 28, Finished, Available)"
          },
          "output_type": "unknown"
        },
        {
          "data": {
            "image/png": "[encoded data removed]"
          },
          "output_type": "unknown"
        },
        {
          "output_type": "unknown"
        }
      ],
      "source": [
        "fig = plt.figure(figsize = (6,6))\n",
        "ax = fig.add_subplot(1,1,1) \n",
        "ax.set_xlabel('Principal Component 1', fontsize = 15)\n",
        "ax.set_ylabel('Principal Component 2', fontsize = 15)\n",
        "ax.set_title('2 component PCA', fontsize = 20)\n",
        "targets = [1, 2, 3]\n",
        "colors = ['r', 'g', 'b']\n",
        "for target, color in zip(targets,colors):\n",
        "    indicesToKeep = pca_df['Seasonality'] == target\n",
        "    ax.scatter(pca_df.loc[indicesToKeep, 'pc1']\n",
        "               , pca_df.loc[indicesToKeep, 'pc2']\n",
        "               , c = color\n",
        "               , s = 1)\n",
        "ax.legend(['All Season Products', 'Summer Products', 'Winter Products'])\n",
        "ax.plot([-0.05, 1.05], [0.77, 1.0], linestyle=':', linewidth=1, color='y')\n",
        "ax.plot([-0.05, 1.05], [0.37, 0.6], linestyle=':', linewidth=1, color='y')\n",
        "ax.grid()\n",
        "\n",
        "plt.show()\n",
        "plt.close()"
      ]
    },
    {
      "cell_type": "markdown",
      "metadata": {},
      "source": [
        "Redo the Principal Components Analysis, this time with twenty dimensions.\n"
      ]
    },
    {
      "cell_type": "code",
      "execution_count": 44,
      "metadata": {},
      "outputs": [
        {
          "data": {
            "application/vnd.livy.statement-meta+json": {
              "execution_finish_time": "2021-05-27T01:41:49.7322588Z",
              "execution_start_time": "2021-05-27T01:41:47.658897Z",
              "livy_statement_state": "available",
              "queued_time": "2021-05-27T01:41:47.5537388Z",
              "session_id": 27,
              "spark_pool": "SparkPool01",
              "state": "finished",
              "statement_id": 29
            },
            "text/plain": "StatementMeta(SparkPool01, 27, 29, Finished, Available)"
          },
          "output_type": "unknown"
        },
        {
          "data": {
            "application/x.notebook.stdout": ""
          },
          "output_type": "unknown"
        }
      ],
      "source": [
        "def col_name(x):\n",
        "    return f'f{x:02}'\n",
        "\n",
        "pca = PCA(n_components=20)\n",
        "principal_components = pca.fit_transform(X_scale)\n",
        "principal_components = MinMaxScaler().fit_transform(principal_components)\n",
        "\n",
        "X = pd.DataFrame(data = principal_components, columns = list(map(col_name, np.arange(0, 20))))\n",
        "pca_df = pd.concat([X, prod_prep_df[['ProductId']]], axis = 1)\n",
        "pca_automl_df = pd.concat([X, prod_prep_df[['Seasonality']]], axis = 1)\n",
        "\n",
        "X = X[:4500]\n",
        "y = prod_prep_df['Seasonality'][:4500]\n",
        "pca_automl_df = pca_automl_df[:4500]"
      ]
    },
    {
      "cell_type": "markdown",
      "metadata": {},
      "source": [
        "Save the PCA components to the SQL pool (you may ignore any warnings).\n"
      ]
    },
    {
      "cell_type": "code",
      "execution_count": 45,
      "metadata": {},
      "outputs": [
        {
          "data": {
            "application/vnd.livy.statement-meta+json": {
              "execution_finish_time": "2021-05-27T01:41:59.1963736Z",
              "execution_start_time": "2021-05-27T01:41:57.1227635Z",
              "livy_statement_state": "available",
              "queued_time": "2021-05-27T01:41:56.9846556Z",
              "session_id": 27,
              "spark_pool": "SparkPool01",
              "state": "finished",
              "statement_id": 30
            },
            "text/plain": "StatementMeta(SparkPool01, 27, 30, Finished, Available)"
          },
          "output_type": "unknown"
        },
        {
          "data": {
            "application/x.notebook.stdout": ""
          },
          "output_type": "unknown"
        }
      ],
      "source": [
        "pca_sdf = spark.createDataFrame(pca_df)\n",
        "pca_sdf.createOrReplaceTempView(\"productpca\")"
      ]
    },
    {
      "cell_type": "code",
      "execution_count": 46,
      "metadata": {
        "microsoft": {
          "language": "scala"
        },
        "outputCollapsed": true
      },
      "outputs": [
        {
          "data": {
            "application/vnd.livy.statement-meta+json": {
              "execution_finish_time": "2021-05-27T01:42:15.1019044Z",
              "execution_start_time": "2021-05-27T01:42:02.6799874Z",
              "livy_statement_state": "available",
              "queued_time": "2021-05-27T01:42:02.576904Z",
              "session_id": 27,
              "spark_pool": "SparkPool01",
              "state": "finished",
              "statement_id": 31
            },
            "text/plain": "StatementMeta(SparkPool01, 27, 31, Finished, Available)"
          },
          "output_type": "unknown"
        },
        {
          "data": {
            "application/x.notebook.stdout": "df: org.apache.spark.sql.DataFrame = [f00: double, f01: double ... 19 more fields]\n"
          },
          "output_type": "unknown"
        }
      ],
      "source": [
        "%%spark\n",
        "val df = spark.sqlContext.sql(\"select * from productpca\")\n",
        "df.write.sqlanalytics(\"SQLPool01.wwi_mcw.ProductPCA\", Constants.INTERNAL)"
      ]
    },
    {
      "cell_type": "markdown",
      "metadata": {},
      "source": [
        "## Train ensemble of trees classifier (using XGBoost)\n",
        "\n",
        "Split into test and training data sets.\n"
      ]
    },
    {
      "cell_type": "code",
      "execution_count": 47,
      "metadata": {},
      "outputs": [
        {
          "data": {
            "application/vnd.livy.statement-meta+json": {
              "execution_finish_time": "2021-05-27T01:42:33.822527Z",
              "execution_start_time": "2021-05-27T01:42:31.7555411Z",
              "livy_statement_state": "available",
              "queued_time": "2021-05-27T01:42:31.6496358Z",
              "session_id": 27,
              "spark_pool": "SparkPool01",
              "state": "finished",
              "statement_id": 32
            },
            "text/plain": "StatementMeta(SparkPool01, 27, 32, Finished, Available)"
          },
          "output_type": "unknown"
        },
        {
          "data": {
            "application/x.notebook.stdout": ""
          },
          "output_type": "unknown"
        }
      ],
      "source": [
        "X_train, X_test, y_train, y_test = train_test_split(X, y, test_size=0.25, random_state=123)"
      ]
    },
    {
      "cell_type": "markdown",
      "metadata": {},
      "source": [
        "Train the ensemble classifier using XGBoost.\n"
      ]
    },
    {
      "cell_type": "code",
      "execution_count": 48,
      "metadata": {},
      "outputs": [
        {
          "data": {
            "application/vnd.livy.statement-meta+json": {
              "execution_finish_time": "2021-05-27T01:43:16.9138837Z",
              "execution_start_time": "2021-05-27T01:43:14.853693Z",
              "livy_statement_state": "available",
              "queued_time": "2021-05-27T01:43:14.7085739Z",
              "session_id": 27,
              "spark_pool": "SparkPool01",
              "state": "finished",
              "statement_id": 33
            },
            "text/plain": "StatementMeta(SparkPool01, 27, 33, Finished, Available)"
          },
          "output_type": "unknown"
        },
        {
          "data": {
            "application/x.notebook.stdout": "XGBClassifier(base_score=0.5, booster='gbtree', colsample_bylevel=1,\n              colsample_bynode=1, colsample_bytree=1, gamma=0,\n              learning_rate=0.1, max_delta_step=0, max_depth=3,\n              min_child_weight=1, missing=None, n_estimators=100, n_jobs=1,\n              nthread=None, objective='multi:softprob', random_state=0,\n              reg_alpha=0, reg_lambda=1, scale_pos_weight=1, seed=None,\n              silent=None, subsample=1, verbosity=1)"
          },
          "output_type": "unknown"
        }
      ],
      "source": [
        "model = XGBClassifier()\n",
        "model.fit(X_train, y_train)"
      ]
    },
    {
      "cell_type": "markdown",
      "metadata": {},
      "source": [
        "Perform predictions with the newly trained model.\n"
      ]
    },
    {
      "cell_type": "code",
      "execution_count": 49,
      "metadata": {},
      "outputs": [
        {
          "data": {
            "application/vnd.livy.statement-meta+json": {
              "execution_finish_time": "2021-05-27T01:43:24.3163587Z",
              "execution_start_time": "2021-05-27T01:43:22.2482098Z",
              "livy_statement_state": "available",
              "queued_time": "2021-05-27T01:43:22.1446568Z",
              "session_id": 27,
              "spark_pool": "SparkPool01",
              "state": "finished",
              "statement_id": 34
            },
            "text/plain": "StatementMeta(SparkPool01, 27, 34, Finished, Available)"
          },
          "output_type": "unknown"
        },
        {
          "data": {
            "application/x.notebook.stdout": ""
          },
          "output_type": "unknown"
        }
      ],
      "source": [
        "y_pred = model.predict(X_test)"
      ]
    },
    {
      "cell_type": "markdown",
      "metadata": {},
      "source": [
        "Calculate the accuracy of the model using test data.\n"
      ]
    },
    {
      "cell_type": "code",
      "execution_count": 50,
      "metadata": {},
      "outputs": [
        {
          "data": {
            "application/vnd.livy.statement-meta+json": {
              "execution_finish_time": "2021-05-27T01:43:30.4529787Z",
              "execution_start_time": "2021-05-27T01:43:28.3849421Z",
              "livy_statement_state": "available",
              "queued_time": "2021-05-27T01:43:28.280442Z",
              "session_id": 27,
              "spark_pool": "SparkPool01",
              "state": "finished",
              "statement_id": 35
            },
            "text/plain": "StatementMeta(SparkPool01, 27, 35, Finished, Available)"
          },
          "output_type": "unknown"
        },
        {
          "data": {
            "application/x.notebook.stdout": "Accuracy: 100.00%"
          },
          "output_type": "unknown"
        }
      ],
      "source": [
        "accuracy = accuracy_score(y_test, y_pred)\n",
        "print(\"Accuracy: %.2f%%\" % (accuracy * 100.0))"
      ]
    },
    {
      "cell_type": "markdown",
      "metadata": {},
      "source": [
        "## Train classifier using Auto ML\n"
      ]
    },
    {
      "cell_type": "markdown",
      "metadata": {},
      "source": [
        "Configure the connection to the Azure Machine Learning workspace. \r\n",
        "\r\n",
        "Please add your subscriptionID, Resource Group name and Azure machine Learning Workspace name which can be found in the Azure Portal"
      ]
    },
    {
      "cell_type": "code",
      "execution_count": 20,
      "metadata": {},
      "outputs": [
        {
          "data": {
            "application/vnd.livy.statement-meta+json": {
              "execution_finish_time": "2021-05-24T23:05:45.6998725Z",
              "execution_start_time": "2021-05-24T23:05:43.6340878Z",
              "livy_statement_state": "available",
              "queued_time": "2021-05-24T23:05:43.5282003Z",
              "session_id": 19,
              "spark_pool": "SparkPool01",
              "state": "finished",
              "statement_id": 21
            },
            "text/plain": "StatementMeta(SparkPool01, 19, 21, Finished, Available)"
          },
          "output_type": "unknown"
        },
        {
          "data": {
            "application/x.notebook.stdout": ""
          },
          "output_type": "unknown"
        }
      ],
      "source": [
        "subscription_id= '<Subscription ID>'\n",
        "resource_group= '<Resource Group>'\n",
        "workspace_name= '<AML Workspace Name>'\n",
        "ws = Workspace(subscription_id = subscription_id, resource_group = resource_group, workspace_name = workspace_name)\n",
        "ws.write_config()\n",
        "\n",
        "experiment = Experiment(ws, \"ASAMCW_Product_Seasonality\")"
      ]
    },
    {
      "cell_type": "markdown",
      "metadata": {},
      "source": [
        "Configure the Automated Machine Learning experiment and start it (will run on local compute resources). It will take approximately 15 minutes.\n",
        "\n",
        "Note we set enable_onnx_compatible_models=True to produce an ONNX model output"
      ]
    },
    {
      "cell_type": "code",
      "execution_count": 52,
      "metadata": {},
      "outputs": [
        {
          "data": {
            "application/vnd.livy.statement-meta+json": {
              "execution_finish_time": "2021-05-27T02:04:28.3765732Z",
              "execution_start_time": "2021-05-27T01:46:34.2654593Z",
              "livy_statement_state": "available",
              "queued_time": "2021-05-27T01:46:34.1110727Z",
              "session_id": 27,
              "spark_pool": "SparkPool01",
              "state": "finished",
              "statement_id": 37
            },
            "text/plain": "StatementMeta(SparkPool01, 27, 37, Finished, Available)"
          },
          "output_type": "unknown"
        },
        {
          "data": {
            "application/x.notebook.stdout": "No run_configuration provided, running on local with default configuration\nRunning on local machine\nParent Run ID: AutoML_89190908-fc2a-4b51-84d9-d856bc8154c8\n\n\r\nCurrent status: DatasetEvaluation. Gathering dataset statistics.\n\r\nCurrent status: FeaturesGeneration. Generating features for the dataset.\n\r\nCurrent status: DatasetFeaturization. Beginning to fit featurizers and featurize the dataset.\n\r\nCurrent status: DatasetFeaturizationCompleted. Completed fit featurizers and featurizing the dataset.\n\r\nCurrent status: DatasetCrossValidationSplit. Generating individually featurized CV splits.\n\n****************************************************************************************************\nDATA GUARDRAILS: \n\nTYPE:         Class balancing detection\nSTATUS:       PASSED\nDESCRIPTION:  Your inputs were analyzed, and all classes are balanced in your training data.\n              Learn more about imbalanced data: https://aka.ms/AutomatedMLImbalancedData\n\n****************************************************************************************************\n\nTYPE:         Missing feature values imputation\nSTATUS:       PASSED\nDESCRIPTION:  No feature missing values were detected in the training data.\n              Learn more about missing value imputation: https://aka.ms/AutomatedMLFeaturization\n\n****************************************************************************************************\n\nTYPE:         High cardinality feature detection\nSTATUS:       PASSED\nDESCRIPTION:  Your inputs were analyzed, and no high cardinality features were detected.\n              Learn more about high cardinality feature handling: https://aka.ms/AutomatedMLFeaturization\n\n****************************************************************************************************\n\r\nCurrent status: ModelSelection. Beginning model selection.\n\n****************************************************************************************************\nITERATION: The iteration being evaluated.\nPIPELINE: A summary description of the pipeline being evaluated.\nDURATION: Time taken for the current iteration.\nMETRIC: The result of computing score on the fitted pipeline.\nBEST: The best observed score thus far.\n****************************************************************************************************\n\n ITERATION   PIPELINE                                       DURATION      METRIC      BEST\n         0   MaxAbsScaler LightGBM                          0:00:34       1.0000    1.0000\n         1   MaxAbsScaler XGBoostClassifier                 0:00:29       1.0000    1.0000\n         2   MinMaxScaler RandomForest                      0:00:24       0.9980    1.0000\n         3   MinMaxScaler RandomForest                      0:00:24       0.9838    1.0000\n         4   MinMaxScaler RandomForest                      0:00:24       1.0000    1.0000\n         5   MaxAbsScaler SVM                               0:00:25       1.0000    1.0000\n         6   StandardScalerWrapper XGBoostClassifier        0:00:23       1.0000    1.0000\n         7   MaxAbsScaler LogisticRegression                0:00:24       1.0000    1.0000\n         8   SparseNormalizer XGBoostClassifier             0:00:24       0.9998    1.0000\n         9   StandardScalerWrapper LightGBM                 0:00:24       1.0000    1.0000\n        10   SparseNormalizer XGBoostClassifier             0:00:23       0.9998    1.0000\n        11   StandardScalerWrapper LogisticRegression       0:00:25       1.0000    1.0000\n        12   StandardScalerWrapper XGBoostClassifier        0:00:24       1.0000    1.0000\n        13   StandardScalerWrapper ExtremeRandomTrees       0:00:23       1.0000    1.0000\n        14   MinMaxScaler LogisticRegression                0:00:24       1.0000    1.0000\n        15   MinMaxScaler LightGBM                          0:00:26       1.0000    1.0000\n        16   SparseNormalizer XGBoostClassifier             0:00:29       1.0000    1.0000\n        17   StandardScalerWrapper LightGBM                 0:00:27       1.0000    1.0000\n        18   SparseNormalizer XGBoostClassifier             0:00:24       0.9998    1.0000\n        19   SparseNormalizer XGBoostClassifier             0:00:26       1.0000    1.0000\n        20   StandardScalerWrapper LightGBM                 0:00:24       1.0000    1.0000\n        21   StandardScalerWrapper XGBoostClassifier        0:00:24       1.0000    1.0000\n        22   StandardScalerWrapper LogisticRegression       0:00:24       1.0000    1.0000\n        23   StandardScalerWrapper XGBoostClassifier        0:00:26       1.0000    1.0000\n        24   MaxAbsScaler ExtremeRandomTrees                0:00:26       1.0000    1.0000\n        25   MinMaxScaler LightGBM                          0:00:24       0.6031    1.0000\n        26   SparseNormalizer XGBoostClassifier             0:00:29       0.9998    1.0000\n        27   StandardScalerWrapper LogisticRegression       0:00:24       1.0000    1.0000\n        28   MinMaxScaler LightGBM                          0:00:26       1.0000    1.0000\n        29   StandardScalerWrapper ExtremeRandomTrees       0:00:35       1.0000    1.0000\n        30   PCA LightGBM                                   0:00:33       0.9742    1.0000\n        31   StandardScalerWrapper LogisticRegression       0:00:24       1.0000    1.0000\n        32   StandardScalerWrapper LogisticRegression       0:00:25       1.0000    1.0000\nStopping criteria reached at iteration 33. Ending experiment.\n****************************************************************************************************\n\r\nCurrent status: BestRunExplainModel. Best run model explanations started\n\r\nCurrent status: ModelExplanationDataSetSetup. Model explanations data setup completed\n\r\nCurrent status: PickSurrogateModel. Choosing LightGBM as the surrogate model for explanations\n\r\nCurrent status: EngineeredFeatureExplanations. Computation of engineered features started\n\r\nCurrent status: EngineeredFeatureExplanations. Computation of engineered features completed\n\r\nCurrent status: RawFeaturesExplanations. Computation of raw features started\n\r\nCurrent status: RawFeaturesExplanations. Computation of raw features completed\n\r\nCurrent status: BestRunExplainModel. Best run model explanations completed\n****************************************************************************************************"
          },
          "output_type": "unknown"
        }
      ],
      "source": [
        "automl_classifier_config = AutoMLConfig(\n",
        "        task='classification',        \n",
        "        experiment_timeout_minutes=15,\n",
        "        enable_onnx_compatible_models=True,\n",
        "        training_data=pca_automl_df,\n",
        "        label_column_name='Seasonality',\n",
        "        n_cross_validations=5,\n",
        "        enable_voting_ensemble=False,\n",
        "        enable_stack_ensemble=False\n",
        "        )\n",
        "\n",
        "local_run = experiment.submit(automl_classifier_config, show_output=True)"
      ]
    },
    {
      "cell_type": "markdown",
      "metadata": {},
      "source": [
        "## Operationalize\n",
        "Operationalization means getting the model into the cloud so that others can run it after you close the notebook. \n",
        "\n",
        "While you can create a docker container running on Azure Container Instances (ACI) to host the model, we want to host the model in Synapse Analytics so it can be called from T-SQL Predict function to easily enrich your SQL Pool data.\n",
        "PREDICT() requires the model to be in ONNX format so we need to retrieve the best ONNX model from the AutoML pipeline iterations. The model is then registered with Azure Machine Learning model registery. \n",
        "\n",
        "We will later use the ONNX model for inferencing in Azure Synapse SQL Pool using the new model scoring wizard."
      ]
    },
    {
      "cell_type": "markdown",
      "metadata": {
        "nteract": {
          "transient": {
            "deleting": false
          }
        }
      },
      "source": [
        "Retrieve the Best ONNX Model\r\n",
        "\r\n",
        "The get_output method returns the best run (best_run) and the fitted model (onnx_mdl). The Model includes the pipeline and any pre-processing."
      ]
    },
    {
      "cell_type": "code",
      "execution_count": 53,
      "metadata": {
        "collapsed": true,
        "jupyter": {
          "outputs_hidden": false,
          "source_hidden": false
        },
        "nteract": {
          "transient": {
            "deleting": false
          }
        }
      },
      "outputs": [
        {
          "data": {
            "application/vnd.livy.statement-meta+json": {
              "execution_finish_time": "2021-05-27T02:09:25.5023313Z",
              "execution_start_time": "2021-05-27T02:07:31.6615383Z",
              "livy_statement_state": "available",
              "queued_time": "2021-05-27T02:07:31.5319991Z",
              "session_id": 27,
              "spark_pool": "SparkPool01",
              "state": "finished",
              "statement_id": 38
            },
            "text/plain": "StatementMeta(SparkPool01, 27, 38, Finished, Available)"
          },
          "output_type": "unknown"
        },
        {
          "data": {
            "application/x.notebook.stdout": ""
          },
          "output_type": "unknown"
        }
      ],
      "source": [
        "best_run, onnx_mdl = local_run.get_output(return_onnx_model=True)"
      ]
    },
    {
      "cell_type": "markdown",
      "metadata": {
        "nteract": {
          "transient": {
            "deleting": false
          }
        }
      },
      "source": [
        "Save the best ONNX model"
      ]
    },
    {
      "cell_type": "code",
      "execution_count": 54,
      "metadata": {
        "collapsed": true,
        "jupyter": {
          "outputs_hidden": false,
          "source_hidden": false
        },
        "nteract": {
          "transient": {
            "deleting": false
          }
        }
      },
      "outputs": [
        {
          "data": {
            "application/vnd.livy.statement-meta+json": {
              "execution_finish_time": "2021-05-27T02:09:34.1326208Z",
              "execution_start_time": "2021-05-27T02:09:32.0629004Z",
              "livy_statement_state": "available",
              "queued_time": "2021-05-27T02:09:31.96192Z",
              "session_id": 27,
              "spark_pool": "SparkPool01",
              "state": "finished",
              "statement_id": 39
            },
            "text/plain": "StatementMeta(SparkPool01, 27, 39, Finished, Available)"
          },
          "output_type": "unknown"
        },
        {
          "data": {
            "application/x.notebook.stdout": ""
          },
          "output_type": "unknown"
        }
      ],
      "source": [
        "from azureml.automl.runtime.onnx_convert import OnnxConverter\r\n",
        "onnx_fl_path = \"./best_model.onnx\"\r\n",
        "OnnxConverter.save_onnx_model(onnx_mdl, onnx_fl_path)"
      ]
    },
    {
      "cell_type": "markdown",
      "metadata": {
        "nteract": {
          "transient": {
            "deleting": false
          }
        }
      },
      "source": [
        "Register model with Azure Machine Learning model registery using MLflow\r\n"
      ]
    },
    {
      "cell_type": "code",
      "execution_count": 55,
      "metadata": {
        "collapsed": true,
        "jupyter": {
          "outputs_hidden": false,
          "source_hidden": false
        },
        "nteract": {
          "transient": {
            "deleting": false
          }
        }
      },
      "outputs": [
        {
          "data": {
            "application/vnd.livy.statement-meta+json": {
              "execution_finish_time": "2021-05-27T02:10:06.1926968Z",
              "execution_start_time": "2021-05-27T02:10:00.0096177Z",
              "livy_statement_state": "available",
              "queued_time": "2021-05-27T02:09:59.8986528Z",
              "session_id": 27,
              "spark_pool": "SparkPool01",
              "state": "finished",
              "statement_id": 40
            },
            "text/plain": "StatementMeta(SparkPool01, 27, 40, Finished, Available)"
          },
          "output_type": "unknown"
        },
        {
          "data": {
            "application/x.notebook.stdout": "<ModelVersion: creation_timestamp=1622081404362, current_stage='None', description='', last_updated_timestamp=1622081404362, name='ASAMCW_Product_Seasonality', run_id='95e1d6ef-2300-494a-bc34-d4e8df15e0b0', run_link='', source='azureml://experiments/ASAMCW_Product_Seasonality/runs/95e1d6ef-2300-494a-bc34-d4e8df15e0b0/artifacts/ASAMCW_Product_Seasonality_artifact', status='READY', status_message='', tags={}, user_id='', version='4'>\nIt is strongly recommended that you pass in a value for the \"algorithms\" argument when calling decode(). This argument will be mandatory in a future version.\nIt is strongly recommended that you pass in a value for the \"algorithms\" argument when calling decode(). This argument will be mandatory in a future version.\n2021/05/27 02:10:03 WARNING mlflow.models.model: Logging model metadata to the tracking server has failed, possibly due older server version. The model artifacts have been logged successfully under azureml://experiments/ASAMCW_Product_Seasonality/runs/95e1d6ef-2300-494a-bc34-d4e8df15e0b0/artifacts. In addition to exporting model artifacts, MLflow clients 1.7.0 and above attempt to record model metadata to the  tracking store. If logging to a mlflow server via REST, consider  upgrading the server version to MLflow 1.7.0 or above.\nRegistered model 'ASAMCW_Product_Seasonality' already exists. Creating a new version of this model...\nCreated version '4' of model 'ASAMCW_Product_Seasonality'."
          },
          "output_type": "unknown"
        }
      ],
      "source": [
        "import mlflow\r\n",
        "import mlflow.onnx\r\n",
        "import pandas\r\n",
        "\r\n",
        "from mlflow.models.signature import infer_signature\r\n",
        "\r\n",
        "experiment_name = 'ASAMCW_Product_Seasonality'\r\n",
        "artifact_path = 'ASAMCW_Product_Seasonality_artifact'\r\n",
        "\r\n",
        "mlflow.set_tracking_uri(ws.get_mlflow_tracking_uri())\r\n",
        "mlflow.set_experiment(experiment_name)\r\n",
        "\r\n",
        "with mlflow.start_run() as run:\r\n",
        "    # Infer signature\r\n",
        "    input_sample = X_train.head(1)\r\n",
        "    output_sample = pandas.DataFrame(columns=['output_label'], data=[1])\r\n",
        "    signature = infer_signature(input_sample, output_sample)\r\n",
        "\r\n",
        "    # Save the model to the outputs directory for capture\r\n",
        "    mlflow.onnx.log_model(onnx_mdl, artifact_path, signature=signature, input_example=input_sample)\r\n",
        "\r\n",
        "    # Register the model to AML model registry\r\n",
        "    mlflow.register_model('runs:/' + run.info.run_id + '/' + artifact_path, 'ASAMCW_Product_Seasonality')"
      ]
    },
    {
      "cell_type": "markdown",
      "metadata": {
        "nteract": {
          "transient": {
            "deleting": false
          }
        }
      },
      "source": [
        "We can test the model predictions here in the notebook using onnxruntime package"
      ]
    },
    {
      "cell_type": "code",
      "execution_count": 56,
      "metadata": {
        "collapsed": true,
        "jupyter": {
          "outputs_hidden": false,
          "source_hidden": false
        },
        "nteract": {
          "transient": {
            "deleting": false
          }
        }
      },
      "outputs": [
        {
          "data": {
            "application/vnd.livy.statement-meta+json": {
              "execution_finish_time": "2021-05-27T02:10:58.1904774Z",
              "execution_start_time": "2021-05-27T02:10:56.1149501Z",
              "livy_statement_state": "available",
              "queued_time": "2021-05-27T02:10:56.005836Z",
              "session_id": 27,
              "spark_pool": "SparkPool01",
              "state": "finished",
              "statement_id": 41
            },
            "text/plain": "StatementMeta(SparkPool01, 27, 41, Finished, Available)"
          },
          "output_type": "unknown"
        },
        {
          "data": {
            "application/x.notebook.stdout": "[3 1 1 ... 1 1 1]\n[[0.1216213  0.06519059 0.81318814]\n [0.80177671 0.10225363 0.09596957]\n [0.80666262 0.09618836 0.09714904]\n ...\n [0.80654949 0.0925226  0.10092784]\n [0.80512559 0.09489599 0.09997842]\n [0.80513251 0.08843666 0.10643084]]"
          },
          "output_type": "unknown"
        }
      ],
      "source": [
        "import sys\r\n",
        "import json\r\n",
        "from azureml.automl.core.onnx_convert import OnnxConvertConstants\r\n",
        "from azureml.train.automl import constants\r\n",
        "\r\n",
        "if sys.version_info < OnnxConvertConstants.OnnxIncompatiblePythonVersion:\r\n",
        "    python_version_compatible = True\r\n",
        "else:\r\n",
        "    python_version_compatible = False\r\n",
        "\r\n",
        "import onnxruntime\r\n",
        "from azureml.automl.runtime.onnx_convert import OnnxInferenceHelper\r\n",
        "\r\n",
        "def get_onnx_res(run):\r\n",
        "    res_path = 'onnx_resource.json'\r\n",
        "    run.download_file(name=constants.MODEL_RESOURCE_PATH_ONNX, output_file_path=res_path)\r\n",
        "    with open(res_path) as f:\r\n",
        "        onnx_res = json.load(f)\r\n",
        "    return onnx_res\r\n",
        "\r\n",
        "if python_version_compatible:\r\n",
        "    test_df = X_test\r\n",
        "    mdl_bytes = onnx_mdl.SerializeToString()\r\n",
        "    onnx_res = get_onnx_res(best_run)\r\n",
        "\r\n",
        "    onnxrt_helper = OnnxInferenceHelper(mdl_bytes, onnx_res)\r\n",
        "    pred_onnx, pred_prob_onnx = onnxrt_helper.predict(test_df)\r\n",
        "\r\n",
        "    print(pred_onnx)\r\n",
        "    print(pred_prob_onnx)\r\n",
        "else:\r\n",
        "    print('Please use Python version 3.6 or 3.7 to run the inference helper.')\r\n"
      ]
    }
  ],
  "metadata": {
    "kernelspec": {
      "display_name": "Python 3.9.1 64-bit",
      "name": "python391jvsc74a57bd063fd5069d213b44bf678585dea6b12cceca9941eaf7f819626cde1f2670de90d"
    },
    "language_info": {
      "name": "python",
      "version": ""
    },
    "metadata": {
      "interpreter": {
        "hash": "63fd5069d213b44bf678585dea6b12cceca9941eaf7f819626cde1f2670de90d"
      }
    },
    "sessionKeepAliveTimeout": 30
  },
  "nbformat": 4,
  "nbformat_minor": 2
}