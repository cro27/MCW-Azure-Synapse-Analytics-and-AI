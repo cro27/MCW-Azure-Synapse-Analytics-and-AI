{
  "cells": [
    {
      "cell_type": "markdown",
      "source": [
        "# Train a classifier to determine product seasonality\r\n"
      ],
      "metadata": {
        "nteract": {
          "transient": {
            "deleting": false
          }
        }
      }
    },
    {
      "cell_type": "markdown",
      "source": [
        "Import all necessary libraries.\r\n"
      ],
      "metadata": {
        "nteract": {
          "transient": {
            "deleting": false
          }
        }
      }
    },
    {
      "cell_type": "code",
      "source": [
        "from sklearn.preprocessing import StandardScaler, MinMaxScaler, Normalizer\r\n",
        "from sklearn.decomposition import PCA\r\n",
        "from sklearn.model_selection import train_test_split\r\n",
        "from sklearn.metrics import accuracy_score\r\n",
        "from sklearn.externals import joblib\r\n",
        "\r\n",
        "from xgboost import XGBClassifier\r\n",
        "\r\n",
        "from onnxmltools.convert import convert_xgboost\r\n",
        "from onnxmltools.convert.common.data_types import FloatTensorType\r\n",
        "\r\n",
        "import numpy as np\r\n",
        "import pandas as pd\r\n",
        "import matplotlib.pyplot as plt\r\n",
        "import joblib\r\n",
        "\r\n",
        "from azureml.core.experiment import Experiment\r\n",
        "from azureml.core.workspace import Workspace\r\n",
        "from azureml.train.automl.run import AutoMLRun\r\n",
        "from azureml.train.automl import AutoMLConfig\r\n",
        "from azureml.automl.runtime.onnx_convert import OnnxConverter\r\n",
        "from azureml.core.model import Model\r\n",
        "from azureml.core import Environment\r\n",
        "from azureml.core.model import InferenceConfig\r\n",
        "from azureml.core.webservice import AciWebservice\r\n",
        "from azureml.core.webservice import Webservice"
      ],
      "outputs": [],
      "execution_count": null,
      "metadata": {
        "collapsed": true,
        "jupyter": {
          "source_hidden": false,
          "outputs_hidden": false
        },
        "nteract": {
          "transient": {
            "deleting": false
          }
        }
      }
    },
    {
      "cell_type": "markdown",
      "source": [
        "## Exploratory data analysis (basic stats)\r\n",
        "\r\n",
        "Create Spark temporary views for sales and products."
      ],
      "metadata": {
        "nteract": {
          "transient": {
            "deleting": false
          }
        }
      }
    },
    {
      "cell_type": "code",
      "source": [
        "%%spark\r\n",
        "val df = spark.read.sqlanalytics(\"SQLPool01.wwi_mcw.SaleSmall\") \r\n",
        "df.createOrReplaceTempView(\"sale\")\r\n",
        "\r\n",
        "\r\n",
        "val df2 = spark.read.sqlanalytics(\"SQLPool01.wwi_mcw.Product\") \r\n",
        "df2.createOrReplaceTempView(\"product\")\r\n",
        "display(df2)"
      ],
      "outputs": [],
      "execution_count": null,
      "metadata": {
        "collapsed": true,
        "jupyter": {
          "source_hidden": false,
          "outputs_hidden": false
        },
        "nteract": {
          "transient": {
            "deleting": false
          }
        },
        "microsoft": {
          "language": "scala"
        }
      }
    },
    {
      "cell_type": "markdown",
      "source": [
        "Load daily product sales from the SQL pool."
      ],
      "metadata": {
        "nteract": {
          "transient": {
            "deleting": false
          }
        }
      }
    },
    {
      "cell_type": "code",
      "source": [
        "sqlQuery = \"\"\"\r\n",
        "SELECT\r\n",
        "    P.ProductId\r\n",
        "    ,P.Seasonality\r\n",
        "    ,S.TransactionDateId\r\n",
        "    ,COUNT(*) as TransactionItemsCount\r\n",
        "FROM\r\n",
        "    sale S\r\n",
        "    JOIN product P ON\r\n",
        "        S.ProductId = P.ProductId\r\n",
        "where TransactionDateId between 20190101 and 20191231\r\n",
        "GROUP BY\r\n",
        "    P.ProductId\r\n",
        "    ,P.Seasonality\r\n",
        "    ,S.TransactionDateId\r\n",
        "\"\"\"\r\n",
        "\r\n",
        "prod_df = spark.sql(sqlQuery)\r\n",
        "prod_df.cache()\r\n",
        "prod_df.show()"
      ],
      "outputs": [],
      "execution_count": null,
      "metadata": {
        "collapsed": true,
        "jupyter": {
          "source_hidden": false,
          "outputs_hidden": false
        },
        "nteract": {
          "transient": {
            "deleting": false
          }
        }
      }
    },
    {
      "cell_type": "markdown",
      "source": [
        "Check the number of records in the data frame (should be around 1.3 million rows)."
      ],
      "metadata": {
        "nteract": {
          "transient": {
            "deleting": false
          }
        }
      }
    },
    {
      "cell_type": "code",
      "source": [
        "prod_df.count()"
      ],
      "outputs": [],
      "execution_count": null,
      "metadata": {
        "collapsed": true,
        "jupyter": {
          "source_hidden": false,
          "outputs_hidden": false
        },
        "nteract": {
          "transient": {
            "deleting": false
          }
        }
      }
    },
    {
      "cell_type": "markdown",
      "source": [
        "Display some statistics about the data frame."
      ],
      "metadata": {
        "nteract": {
          "transient": {
            "deleting": false
          }
        }
      }
    },
    {
      "cell_type": "code",
      "source": [
        "display(prod_df.describe())"
      ],
      "outputs": [],
      "execution_count": null,
      "metadata": {
        "collapsed": true,
        "jupyter": {
          "source_hidden": false,
          "outputs_hidden": false
        },
        "nteract": {
          "transient": {
            "deleting": false
          }
        }
      }
    },
    {
      "cell_type": "markdown",
      "source": [
        "Pivot the data frame to make daily sale items counts columns. "
      ],
      "metadata": {
        "nteract": {
          "transient": {
            "deleting": false
          }
        }
      }
    },
    {
      "cell_type": "code",
      "source": [
        "prod_prep_df = prod_df.groupBy(['ProductId', 'Seasonality']).pivot('TransactionDateId').sum('TransactionItemsCount').toPandas()"
      ],
      "outputs": [],
      "execution_count": null,
      "metadata": {
        "collapsed": true,
        "jupyter": {
          "source_hidden": false,
          "outputs_hidden": false
        },
        "nteract": {
          "transient": {
            "deleting": false
          }
        }
      }
    },
    {
      "cell_type": "code",
      "source": [
        "Clean up the nulls and take a look at the result."
      ],
      "outputs": [],
      "execution_count": null,
      "metadata": {
        "collapsed": true,
        "jupyter": {
          "source_hidden": false,
          "outputs_hidden": false
        },
        "nteract": {
          "transient": {
            "deleting": false
          }
        }
      }
    },
    {
      "cell_type": "code",
      "source": [
        "prod_prep_df = prod_prep_df.fillna(0)\r\n",
        "prod_prep_df.head(10)"
      ],
      "outputs": [],
      "execution_count": null,
      "metadata": {
        "collapsed": true,
        "jupyter": {
          "source_hidden": false,
          "outputs_hidden": false
        },
        "nteract": {
          "transient": {
            "deleting": false
          }
        }
      }
    },
    {
      "cell_type": "markdown",
      "source": [
        "Isolate features and prediction classes.\r\n",
        "\r\n",
        "Standardize features by removing the mean and scaling to unit variance."
      ],
      "metadata": {
        "nteract": {
          "transient": {
            "deleting": false
          }
        }
      }
    },
    {
      "cell_type": "code",
      "source": [
        "X = prod_prep_df.iloc[:, 2:].values\r\n",
        "y = prod_prep_df['Seasonality'].values\r\n",
        "\r\n",
        "X_scale = StandardScaler().fit_transform(X)"
      ],
      "outputs": [],
      "execution_count": null,
      "metadata": {
        "collapsed": true,
        "jupyter": {
          "source_hidden": false,
          "outputs_hidden": false
        },
        "nteract": {
          "transient": {
            "deleting": false
          }
        }
      }
    },
    {
      "cell_type": "markdown",
      "source": [
        "## Use PCA for dimensionality reduction\r\n",
        "\r\n",
        "Perform dimensionality reduction using Principal Components Analysis and two target components."
      ],
      "metadata": {
        "nteract": {
          "transient": {
            "deleting": false
          }
        }
      }
    },
    {
      "cell_type": "code",
      "source": [
        "pca = PCA(n_components=2)\r\n",
        "principal_components = pca.fit_transform(X_scale)\r\n",
        "principal_components = MinMaxScaler().fit_transform(principal_components)\r\n",
        "\r\n",
        "pca_df = pd.DataFrame(data = principal_components, columns = ['pc1', 'pc2'])\r\n",
        "pca_df = pd.concat([pca_df, prod_prep_df[['Seasonality']]], axis = 1)"
      ],
      "outputs": [],
      "execution_count": null,
      "metadata": {
        "collapsed": true,
        "jupyter": {
          "source_hidden": false,
          "outputs_hidden": false
        },
        "nteract": {
          "transient": {
            "deleting": false
          }
        }
      }
    },
    {
      "cell_type": "markdown",
      "source": [
        "Display the products data frame in two dimensions (mapped to the two principal components).\r\n",
        "\r\n",
        "Note the clear separation of clusters."
      ],
      "metadata": {
        "nteract": {
          "transient": {
            "deleting": false
          }
        }
      }
    },
    {
      "cell_type": "code",
      "source": [
        "fig = plt.figure(figsize = (6,6))\r\n",
        "ax = fig.add_subplot(1,1,1) \r\n",
        "ax.set_xlabel('Principal Component 1', fontsize = 15)\r\n",
        "ax.set_ylabel('Principal Component 2', fontsize = 15)\r\n",
        "ax.set_title('2 component PCA', fontsize = 20)\r\n",
        "targets = [1, 2, 3]\r\n",
        "colors = ['r', 'g', 'b']\r\n",
        "for target, color in zip(targets,colors):\r\n",
        "    indicesToKeep = pca_df['Seasonality'] == target\r\n",
        "    ax.scatter(pca_df.loc[indicesToKeep, 'pc1']\r\n",
        "               , pca_df.loc[indicesToKeep, 'pc2']\r\n",
        "               , c = color\r\n",
        "               , s = 1)\r\n",
        "ax.legend(['All Season Products', 'Summer Products', 'Winter Products'])\r\n",
        "ax.plot([-0.05, 1.05], [0.77, 1.0], linestyle=':', linewidth=1, color='y')\r\n",
        "ax.plot([-0.05, 1.05], [0.37, 0.6], linestyle=':', linewidth=1, color='y')\r\n",
        "ax.grid()\r\n",
        "\r\n",
        "plt.show()\r\n",
        "plt.close()"
      ],
      "outputs": [],
      "execution_count": null,
      "metadata": {
        "collapsed": true,
        "jupyter": {
          "source_hidden": false,
          "outputs_hidden": false
        },
        "nteract": {
          "transient": {
            "deleting": false
          }
        }
      }
    },
    {
      "cell_type": "markdown",
      "source": [
        "Redo the Principal Components Analysis, this time with twenty dimensions."
      ],
      "metadata": {
        "nteract": {
          "transient": {
            "deleting": false
          }
        }
      }
    },
    {
      "cell_type": "code",
      "source": [
        "def col_name(x):\r\n",
        "    return f'f{x:02}'\r\n",
        "\r\n",
        "pca = PCA(n_components=20)\r\n",
        "principal_components = pca.fit_transform(X_scale)\r\n",
        "principal_components = MinMaxScaler().fit_transform(principal_components)\r\n",
        "\r\n",
        "X = pd.DataFrame(data = principal_components, columns = list(map(col_name, np.arange(0, 20))))\r\n",
        "pca_df = pd.concat([X, prod_prep_df[['ProductId']]], axis = 1)\r\n",
        "pca_automl_df = pd.concat([X, prod_prep_df[['Seasonality']]], axis = 1)\r\n",
        "\r\n",
        "X = X[:4500]\r\n",
        "y = prod_prep_df['Seasonality'][:4500]\r\n",
        "pca_automl_df = pca_automl_df[:4500]"
      ],
      "outputs": [],
      "execution_count": null,
      "metadata": {
        "collapsed": true,
        "jupyter": {
          "source_hidden": false,
          "outputs_hidden": false
        },
        "nteract": {
          "transient": {
            "deleting": false
          }
        }
      }
    },
    {
      "cell_type": "markdown",
      "source": [
        "Save the PCA components to the SQL pool (you may ignore any warnings)."
      ],
      "metadata": {
        "nteract": {
          "transient": {
            "deleting": false
          }
        }
      }
    },
    {
      "cell_type": "code",
      "source": [
        "pca_sdf = spark.createDataFrame(pca_df)\r\n",
        "pca_sdf.createOrReplaceTempView(\"productpca\")"
      ],
      "outputs": [],
      "execution_count": null,
      "metadata": {
        "collapsed": true,
        "jupyter": {
          "source_hidden": false,
          "outputs_hidden": false
        },
        "nteract": {
          "transient": {
            "deleting": false
          }
        }
      }
    },
    {
      "cell_type": "code",
      "source": [
        "%%spark\r\n",
        "val df = spark.sqlContext.sql(\"select * from productpca\")\r\n",
        "df.write.sqlanalytics(\"SQLPool01.wwi_mcw.ProductPCA\", Constants.INTERNAL)"
      ],
      "outputs": [],
      "execution_count": null,
      "metadata": {
        "collapsed": true,
        "jupyter": {
          "source_hidden": false,
          "outputs_hidden": false
        },
        "nteract": {
          "transient": {
            "deleting": false
          }
        },
        "microsoft": {
          "language": "scala"
        }
      }
    },
    {
      "cell_type": "markdown",
      "source": [
        "## Train ensemble of trees classifier (using XGBoost)\r\n",
        "\r\n",
        "Split into test and training data sets."
      ],
      "metadata": {
        "nteract": {
          "transient": {
            "deleting": false
          }
        }
      }
    },
    {
      "cell_type": "code",
      "source": [
        "X_train, X_test, y_train, y_test = train_test_split(X, y, test_size=0.25, random_state=123)"
      ],
      "outputs": [],
      "execution_count": null,
      "metadata": {
        "collapsed": true,
        "jupyter": {
          "source_hidden": false,
          "outputs_hidden": false
        },
        "nteract": {
          "transient": {
            "deleting": false
          }
        }
      }
    },
    {
      "cell_type": "markdown",
      "source": [
        "Train the ensemble classifier using XGBoost."
      ],
      "metadata": {
        "nteract": {
          "transient": {
            "deleting": false
          }
        }
      }
    },
    {
      "cell_type": "code",
      "source": [
        "model = XGBClassifier()\r\n",
        "model.fit(X_train, y_train)"
      ],
      "outputs": [],
      "execution_count": null,
      "metadata": {
        "collapsed": true,
        "jupyter": {
          "source_hidden": false,
          "outputs_hidden": false
        },
        "nteract": {
          "transient": {
            "deleting": false
          }
        }
      }
    },
    {
      "cell_type": "markdown",
      "source": [
        "Perform predictions with the newly trained model."
      ],
      "metadata": {
        "nteract": {
          "transient": {
            "deleting": false
          }
        }
      }
    },
    {
      "cell_type": "code",
      "source": [
        "y_pred = model.predict(X_test)"
      ],
      "outputs": [],
      "execution_count": null,
      "metadata": {
        "collapsed": true,
        "jupyter": {
          "source_hidden": false,
          "outputs_hidden": false
        },
        "nteract": {
          "transient": {
            "deleting": false
          }
        }
      }
    },
    {
      "cell_type": "markdown",
      "source": [
        "Calculate the accuracy of the model using test data."
      ],
      "metadata": {
        "nteract": {
          "transient": {
            "deleting": false
          }
        }
      }
    },
    {
      "cell_type": "code",
      "source": [
        "accuracy = accuracy_score(y_test, y_pred)\r\n",
        "print(\"Accuracy: %.2f%%\" % (accuracy * 100.0))"
      ],
      "outputs": [],
      "execution_count": null,
      "metadata": {
        "collapsed": true,
        "jupyter": {
          "source_hidden": false,
          "outputs_hidden": false
        },
        "nteract": {
          "transient": {
            "deleting": false
          }
        }
      }
    },
    {
      "cell_type": "markdown",
      "source": [
        "## Train classifier using Auto ML"
      ],
      "metadata": {
        "nteract": {
          "transient": {
            "deleting": false
          }
        }
      }
    },
    {
      "cell_type": "markdown",
      "source": [
        "Configure the connection to the Azure Machine Learning workspace. \r\n",
        "\r\n",
        "Please add your subscriptionID, Resource Group name and Azure machine Learning Workspace name which can be found in the Azure Portal"
      ],
      "metadata": {
        "nteract": {
          "transient": {
            "deleting": false
          }
        }
      }
    },
    {
      "cell_type": "code",
      "source": [
        "subscription_id= '#Subscription ID#'\r\n",
        "resource_group= '#Resource Group#'\r\n",
        "workspace_name= '#AML Workspace Name#'\r\n",
        "ws = Workspace(subscription_id = subscription_id, resource_group = resource_group, workspace_name = workspace_name)\r\n",
        "ws.write_config()\r\n",
        "\r\n",
        "experiment = Experiment(ws, \"ASAMCW_Product_Seasonality\")"
      ],
      "outputs": [],
      "execution_count": null,
      "metadata": {
        "collapsed": true,
        "jupyter": {
          "source_hidden": false,
          "outputs_hidden": false
        },
        "nteract": {
          "transient": {
            "deleting": false
          }
        }
      }
    },
    {
      "cell_type": "markdown",
      "source": [
        "Configure the Automated Machine Learning experiment and start it (will run on local compute resources). It will take approximately 15 minutes.\r\n",
        "\r\n",
        "Note we set enable_onnx_compatible_models=True to produce an ONNX model output"
      ],
      "metadata": {
        "nteract": {
          "transient": {
            "deleting": false
          }
        }
      }
    },
    {
      "cell_type": "code",
      "source": [
        "automl_classifier_config = AutoMLConfig(\r\n",
        "        task='classification',        \r\n",
        "        experiment_timeout_minutes=15,\r\n",
        "        enable_onnx_compatible_models=True,\r\n",
        "        training_data=pca_automl_df,\r\n",
        "        label_column_name='Seasonality',\r\n",
        "        n_cross_validations=5,\r\n",
        "        enable_voting_ensemble=False,\r\n",
        "        enable_stack_ensemble=False\r\n",
        "        )\r\n",
        "\r\n",
        "local_run = experiment.submit(automl_classifier_config, show_output=True)"
      ],
      "outputs": [],
      "execution_count": null,
      "metadata": {
        "collapsed": true,
        "jupyter": {
          "source_hidden": false,
          "outputs_hidden": false
        },
        "nteract": {
          "transient": {
            "deleting": false
          }
        }
      }
    },
    {
      "cell_type": "markdown",
      "source": [
        "## Operationalize\r\n",
        "Operationalization means getting the model into the cloud so that others can run it after you close the notebook. \r\n",
        "\r\n",
        "While you can create a docker container running on Azure Container Instances (ACI) to host the model, we want to host the model in Synapse Analytics so it can be called from T-SQL Predict function to easily enrich your SQL Pool data.\r\n",
        "PREDICT() requires the model to be in ONNX format so we need to retrieve the best ONNX model from the AutoML pipeline iterations. The model is then registered with Azure Machine Learning model registery. \r\n",
        "\r\n",
        "We will later use the ONNX model for inferencing in Azure Synapse SQL Pool using the new model scoring wizard."
      ],
      "metadata": {
        "nteract": {
          "transient": {
            "deleting": false
          }
        }
      }
    },
    {
      "cell_type": "markdown",
      "source": [
        "Retrieve the Best ONNX Model\r\n",
        "\r\n",
        "The get_output method returns the best run (best_run) and the fitted model (onnx_mdl). The Model includes the pipeline and any pre-processing."
      ],
      "metadata": {
        "nteract": {
          "transient": {
            "deleting": false
          }
        }
      }
    },
    {
      "cell_type": "code",
      "source": [
        "best_run, onnx_mdl = local_run.get_output(return_onnx_model=True)"
      ],
      "outputs": [],
      "execution_count": null,
      "metadata": {
        "collapsed": true,
        "jupyter": {
          "source_hidden": false,
          "outputs_hidden": false
        },
        "nteract": {
          "transient": {
            "deleting": false
          }
        }
      }
    },
    {
      "cell_type": "markdown",
      "source": [
        "Save the best ONNX model"
      ],
      "metadata": {
        "nteract": {
          "transient": {
            "deleting": false
          }
        }
      }
    },
    {
      "cell_type": "code",
      "source": [
        "from azureml.automl.runtime.onnx_convert import OnnxConverter\r\n",
        "onnx_fl_path = \"./best_model.onnx\"\r\n",
        "OnnxConverter.save_onnx_model(onnx_mdl, onnx_fl_path)"
      ],
      "outputs": [],
      "execution_count": null,
      "metadata": {
        "collapsed": true,
        "jupyter": {
          "source_hidden": false,
          "outputs_hidden": false
        },
        "nteract": {
          "transient": {
            "deleting": false
          }
        }
      }
    },
    {
      "cell_type": "markdown",
      "source": [
        "Register model with Azure Machine Learning model registery using MLflow"
      ],
      "metadata": {
        "nteract": {
          "transient": {
            "deleting": false
          }
        }
      }
    },
    {
      "cell_type": "code",
      "source": [
        "import mlflow\r\n",
        "import mlflow.onnx\r\n",
        "import pandas\r\n",
        "\r\n",
        "from mlflow.models.signature import infer_signature\r\n",
        "\r\n",
        "experiment_name = 'ASAMCW_Product_Seasonality'\r\n",
        "artifact_path = 'ASAMCW_Product_Seasonality_artifact'\r\n",
        "\r\n",
        "mlflow.set_tracking_uri(ws.get_mlflow_tracking_uri())\r\n",
        "mlflow.set_experiment(experiment_name)\r\n",
        "\r\n",
        "with mlflow.start_run() as run:\r\n",
        "    # Infer signature\r\n",
        "    input_sample = X_train.head(1)\r\n",
        "    output_sample = pandas.DataFrame(columns=['output_label'], data=[1])\r\n",
        "    signature = infer_signature(input_sample, output_sample)\r\n",
        "\r\n",
        "    # Save the model to the outputs directory for capture\r\n",
        "    mlflow.onnx.log_model(onnx_mdl, artifact_path, signature=signature, input_example=input_sample)\r\n",
        "\r\n",
        "    # Register the model to AML model registry\r\n",
        "    mlflow.register_model('runs:/' + run.info.run_id + '/' + artifact_path, 'ASAMCW_Product_Seasonality')"
      ],
      "outputs": [],
      "execution_count": null,
      "metadata": {
        "collapsed": true,
        "jupyter": {
          "source_hidden": false,
          "outputs_hidden": false
        },
        "nteract": {
          "transient": {
            "deleting": false
          }
        }
      }
    },
    {
      "cell_type": "markdown",
      "source": [
        "We can test the model predictions here in the notebook using onnxruntime package"
      ],
      "metadata": {
        "nteract": {
          "transient": {
            "deleting": false
          }
        }
      }
    },
    {
      "cell_type": "code",
      "source": [
        "import sys\r\n",
        "import json\r\n",
        "from azureml.automl.core.onnx_convert import OnnxConvertConstants\r\n",
        "from azureml.train.automl import constants\r\n",
        "\r\n",
        "if sys.version_info < OnnxConvertConstants.OnnxIncompatiblePythonVersion:\r\n",
        "    python_version_compatible = True\r\n",
        "else:\r\n",
        "    python_version_compatible = False\r\n",
        "\r\n",
        "import onnxruntime\r\n",
        "from azureml.automl.runtime.onnx_convert import OnnxInferenceHelper\r\n",
        "\r\n",
        "def get_onnx_res(run):\r\n",
        "    res_path = 'onnx_resource.json'\r\n",
        "    run.download_file(name=constants.MODEL_RESOURCE_PATH_ONNX, output_file_path=res_path)\r\n",
        "    with open(res_path) as f:\r\n",
        "        onnx_res = json.load(f)\r\n",
        "    return onnx_res\r\n",
        "\r\n",
        "if python_version_compatible:\r\n",
        "    test_df = X_test\r\n",
        "    mdl_bytes = onnx_mdl.SerializeToString()\r\n",
        "    onnx_res = get_onnx_res(best_run)\r\n",
        "\r\n",
        "    onnxrt_helper = OnnxInferenceHelper(mdl_bytes, onnx_res)\r\n",
        "    pred_onnx, pred_prob_onnx = onnxrt_helper.predict(test_df)\r\n",
        "\r\n",
        "    print(pred_onnx)\r\n",
        "    print(pred_prob_onnx)\r\n",
        "else:\r\n",
        "    print('Please use Python version 3.6 or 3.7 to run the inference helper.')"
      ],
      "outputs": [],
      "execution_count": null,
      "metadata": {
        "collapsed": true,
        "jupyter": {
          "source_hidden": false,
          "outputs_hidden": false
        },
        "nteract": {
          "transient": {
            "deleting": false
          }
        }
      }
    }
  ],
  "metadata": {
    "language_info": {
      "name": "python"
    },
    "kernelspec": {
      "name": "synapse_pyspark",
      "display_name": "python"
    },
    "save_output": false,
    "synapse_widget": {
      "version": "0.1",
      "state": {}
    }
  },
  "nbformat": 4,
  "nbformat_minor": 2
}